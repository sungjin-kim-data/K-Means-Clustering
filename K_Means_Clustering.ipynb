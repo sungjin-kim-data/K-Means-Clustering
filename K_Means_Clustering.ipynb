{
  "nbformat": 4,
  "nbformat_minor": 0,
  "metadata": {
    "colab": {
      "name": "K-Means Clustering",
      "private_outputs": true,
      "provenance": [],
      "authorship_tag": "ABX9TyO26P+VubNH7IfeGVwQKQNT",
      "include_colab_link": true
    },
    "kernelspec": {
      "name": "python3",
      "display_name": "Python 3"
    },
    "language_info": {
      "name": "python"
    }
  },
  "cells": [
    {
      "cell_type": "markdown",
      "metadata": {
        "id": "view-in-github",
        "colab_type": "text"
      },
      "source": [
        "<a href=\"https://colab.research.google.com/github/sungjin-kim-data/K-Means-Clustering/blob/main/K_Means_Clustering.ipynb\" target=\"_parent\"><img src=\"https://colab.research.google.com/assets/colab-badge.svg\" alt=\"Open In Colab\"/></a>"
      ]
    },
    {
      "cell_type": "code",
      "execution_count": null,
      "metadata": {
        "id": "jtpPjT5jgTUD"
      },
      "outputs": [],
      "source": [
        "import numpy as np\n",
        "import pandas as pd\n",
        "import math\n",
        "import seaborn as sns\n",
        "import matplotlib.pyplot as plt\n",
        "import sklearn\n",
        "from sklearn.preprocessing import StandardScaler\n",
        "\n",
        "plt.style.use(\"default\")\n",
        "\n",
        "import warnings\n",
        "warnings.simplefilter(action='ignore', category=FutureWarning)"
      ]
    },
    {
      "cell_type": "code",
      "source": [
        "# 데이터 불러오기\n",
        "df = pd.read_csv('/content/dataset.csv')\n",
        "df.head()"
      ],
      "metadata": {
        "id": "MkA10xUzgahj"
      },
      "execution_count": null,
      "outputs": []
    },
    {
      "cell_type": "code",
      "source": [
        "# 데이터 정보 확인\n",
        "df.info()"
      ],
      "metadata": {
        "id": "DRDJsD1Cgaj1"
      },
      "execution_count": null,
      "outputs": []
    },
    {
      "cell_type": "code",
      "source": [
        "# 데이터 정제\n",
        "#diagnosis columns M은 1, B는 0으로 바꾼 뒤, label이라는 변수에 저장\n",
        "df = df.replace({'diagnosis','M'}, 1)\n",
        "df = df.replace({'diagnosis','B'}, 0)\n",
        "\n",
        "label = df['diagnosis']\n",
        "label[:5]"
      ],
      "metadata": {
        "id": "XvBkE1N2gamI"
      },
      "execution_count": null,
      "outputs": []
    },
    {
      "cell_type": "code",
      "source": [
        "# columns 중 필요없는 columns 삭제\n",
        "df.columns"
      ],
      "metadata": {
        "id": "MTvNjH9tgapI"
      },
      "execution_count": null,
      "outputs": []
    },
    {
      "cell_type": "code",
      "source": [
        "df = df.drop(['id', 'diagnosis', 'Unnamed: 32'], axis = 1)"
      ],
      "metadata": {
        "id": "8YBJu-7sgara"
      },
      "execution_count": null,
      "outputs": []
    },
    {
      "cell_type": "code",
      "source": [
        "# 통계치 확인\n",
        "df.describe()"
      ],
      "metadata": {
        "id": "gk3oq4r1gauE"
      },
      "execution_count": null,
      "outputs": []
    },
    {
      "cell_type": "code",
      "source": [
        "# 모든 columns에 log tranformation 적용\n",
        "df_log = np.log(df)\n",
        "df_log"
      ],
      "metadata": {
        "id": "0q69gRkKgawt"
      },
      "execution_count": null,
      "outputs": []
    },
    {
      "cell_type": "code",
      "source": [
        "# 데이터의 단위에 따른 왜곡을 방지하기 위해 df_log에 StandardScaler()를 적용\n",
        "\n",
        "sc = StandardScaler()\n",
        "features = sc.fit_transform(df_log)"
      ],
      "metadata": {
        "id": "okUHh4dLgazW"
      },
      "execution_count": null,
      "outputs": []
    },
    {
      "cell_type": "code",
      "source": [
        "features"
      ],
      "metadata": {
        "id": "_IlIBU3xga2L"
      },
      "execution_count": null,
      "outputs": []
    },
    {
      "cell_type": "code",
      "source": [
        "# K-Means Clustering 적용 ( K = 2 , random_state=42 )\n",
        "from sklearn.cluster import KMeans"
      ],
      "metadata": {
        "id": "XlDj01lhh9-t"
      },
      "execution_count": null,
      "outputs": []
    },
    {
      "cell_type": "code",
      "source": [
        "kmeans = KMeans(n_clusters = 2, random_state=42)\n",
        "kmeans.fit(features)\n",
        "\n",
        "df['cluster'] = kmeans.labels_"
      ],
      "metadata": {
        "id": "m9Iv2XX4h-Br"
      },
      "execution_count": null,
      "outputs": []
    },
    {
      "cell_type": "code",
      "source": [
        "# df['cluster'] 시각화 및 결과 해석\n",
        "\n",
        "sns.scatterplot(data=df, x='compactness_mean',y='perimeter_mean',hue='cluster')\n",
        "plt.title('compactness_mean by perimeter_mean')\n",
        "plt.legend(fontsize=15)\n",
        "plt.show()"
      ],
      "metadata": {
        "id": "ET620yKKh-Eq"
      },
      "execution_count": null,
      "outputs": []
    },
    {
      "cell_type": "code",
      "source": [
        "label2 = df['cluster']\n",
        "acc = (label == label2).mean()\n",
        "round(acc, 2)"
      ],
      "metadata": {
        "id": "-7zP59kmh-HT"
      },
      "execution_count": null,
      "outputs": []
    },
    {
      "cell_type": "markdown",
      "source": [
        "## **Elbow Method를 보고 K 값 확인**"
      ],
      "metadata": {
        "id": "Oh_7_eveioT8"
      }
    },
    {
      "cell_type": "code",
      "source": [
        "inertia_list = []\n",
        "\n",
        "for i in range(1, 11):\n",
        "  kmeans = KMeans(n_clusters=i, init='k-means++', random_state=42)\n",
        "  # 학습\n",
        "  kmeans.fit(features)\n",
        "  # 각 지점으로 부터 centroid 까지의 거리의 제곱의 합\n",
        "  inertia_list.append(kmeans.inertia_)\n",
        "\n",
        "# 시각화\n",
        "plt.plot(range(1, 11), inertia_list, 'o-')\n",
        "plt.title('Elbow Method')\n",
        "plt.xlabel('n_clusters')\n",
        "plt.xlim(1, 10, 1)\n",
        "plt.ylabel('inertia')\n",
        "plt.show()"
      ],
      "metadata": {
        "id": "eFcxUZNHh-KW"
      },
      "execution_count": null,
      "outputs": []
    },
    {
      "cell_type": "code",
      "source": [
        "# K = 2와 비교를 위해 df_1에 columns 저장\n",
        "\n",
        "df_1 = df[['compactness_mean', 'perimeter_mean']]"
      ],
      "metadata": {
        "id": "clWEfrXHh-NS"
      },
      "execution_count": null,
      "outputs": []
    },
    {
      "cell_type": "code",
      "source": [
        "# Scaling 이전의 데이터 확인\n",
        "plt.scatter(df_1['compactness_mean'], df_1['perimeter_mean'])\n",
        "plt.title('compactness_mean by perimeter_mean')\n",
        "plt.show()"
      ],
      "metadata": {
        "id": "8RDj5SF2h-QZ"
      },
      "execution_count": null,
      "outputs": []
    },
    {
      "cell_type": "code",
      "source": [
        "# Feature Scaling\n",
        "sc = StandardScaler()\n",
        "X = sc.fit_transform(df_1)"
      ],
      "metadata": {
        "id": "STdCPKMzjEG8"
      },
      "execution_count": null,
      "outputs": []
    },
    {
      "cell_type": "code",
      "source": [
        "plt.scatter(X[:, 0], X[:, 1])\n",
        "plt.title('compactness_mean by perimeter_mean')\n",
        "plt.show()"
      ],
      "metadata": {
        "id": "CbS5DAO8jFBc"
      },
      "execution_count": null,
      "outputs": []
    },
    {
      "cell_type": "code",
      "source": [
        "# Optimal K 값을 4으로 지정\n",
        "kmeans = KMeans(n_clusters=4, random_state=42)\n",
        "# 각 지점들이 어떤 클라스크에 속하는지(Y) 학습을 통해 정보를 담기\n",
        "y_kmeans = kmeans.fit_predict(X)"
      ],
      "metadata": {
        "id": "Y381HYTKjHOM"
      },
      "execution_count": null,
      "outputs": []
    },
    {
      "cell_type": "code",
      "source": [
        "# 시각화 하기 전 각 Centroid 좌표 찍기\n",
        "centers = kmeans.cluster_centers_\n",
        "centers"
      ],
      "metadata": {
        "id": "rpJpCfCRjHAL"
      },
      "execution_count": null,
      "outputs": []
    },
    {
      "cell_type": "code",
      "source": [
        "# 시각화\n",
        "for cluster in range(4):\n",
        "  plt.scatter(X[y_kmeans == cluster, 0], X[y_kmeans == cluster, 1], s=40, ec='black')\n",
        "  # centroid\n",
        "  plt.scatter(centers[cluster, 0], centers[cluster, 1], s=300, ec='black', color='yellow', marker='s')\n",
        "  # cluster text\n",
        "  plt.text(centers[cluster, 0], centers[cluster, 1], cluster, va='center', ha='center')\n",
        "\n",
        "plt.title('compactness_mean by perimeter_mean')\n",
        "plt.show()"
      ],
      "metadata": {
        "id": "2UfZB6GQjZlc"
      },
      "execution_count": null,
      "outputs": []
    },
    {
      "cell_type": "code",
      "source": [
        "# Features Scaling 원복\n",
        "X_org = sc.inverse_transform(X)\n",
        "X_org[:5]"
      ],
      "metadata": {
        "id": "ULgiGCMVjf-u"
      },
      "execution_count": null,
      "outputs": []
    },
    {
      "cell_type": "code",
      "source": [
        "centers_org = sc.inverse_transform(centers)\n",
        "centers_org"
      ],
      "metadata": {
        "id": "-kcBgGDJjiZm"
      },
      "execution_count": null,
      "outputs": []
    },
    {
      "cell_type": "code",
      "source": [
        "# 시각화\n",
        "for cluster in range(4):\n",
        "  plt.scatter(X_org[y_kmeans == cluster, 0], X_org[y_kmeans == cluster, 1], s=40, ec='black')\n",
        "  # centroid\n",
        "  plt.scatter(centers_org[cluster, 0], centers_org[cluster, 1], s=300, ec='black', color='yellow', marker='s')\n",
        "  # cluster text\n",
        "  plt.text(centers_org[cluster, 0], centers_org[cluster, 1], cluster, va='center', ha='center')\n",
        "\n",
        "plt.title('compactness_mean by perimeter_mean')\n",
        "plt.show()"
      ],
      "metadata": {
        "id": "AymZ6ThfjicF"
      },
      "execution_count": null,
      "outputs": []
    }
  ]
}